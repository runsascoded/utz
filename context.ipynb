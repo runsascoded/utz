{
 "cells": [
  {
   "cell_type": "markdown",
   "metadata": {},
   "source": [
    "# Context Manager utilities"
   ]
  },
  {
   "cell_type": "markdown",
   "metadata": {},
   "source": [
    "General/Common imports:"
   ]
  },
  {
   "cell_type": "code",
   "execution_count": null,
   "metadata": {},
   "outputs": [],
   "source": [
    "from contextlib import AbstractContextManager, contextmanager, suppress"
   ]
  },
  {
   "cell_type": "markdown",
   "metadata": {},
   "source": [
    "## `nullcontext`\n",
    "Define `nullcontext` in a cross-version way:"
   ]
  },
  {
   "cell_type": "code",
   "execution_count": null,
   "metadata": {},
   "outputs": [],
   "source": [
    "try:\n",
    "    # Python ≥3.7\n",
    "    from contextlib import nullcontext\n",
    "except ImportError:\n",
    "    # Python <3.7\n",
    "    class nullcontext(object):\n",
    "        def __enter__(self): pass\n",
    "        def __exit__(self, *args): pass"
   ]
  },
  {
   "cell_type": "markdown",
   "metadata": {},
   "source": [
    "Verify it works:"
   ]
  },
  {
   "cell_type": "code",
   "execution_count": 2,
   "metadata": {},
   "outputs": [],
   "source": [
    "with nullcontext(): pass"
   ]
  },
  {
   "cell_type": "markdown",
   "metadata": {},
   "source": [
    "## `catch`: context manager for catching+verifying `Exception`s"
   ]
  },
  {
   "cell_type": "code",
   "execution_count": null,
   "metadata": {},
   "outputs": [],
   "source": [
    "class catch(AbstractContextManager):\n",
    "    def __init__(self, *excs):\n",
    "        self.excs = excs\n",
    "\n",
    "    def __exit__(self, exc_type, exc_value, traceback):\n",
    "        if not exc_type:\n",
    "            if len(self.excs) == 1:\n",
    "                raise AssertionError(f'No {self.excs[0].__name__} was thrown')\n",
    "            else:\n",
    "                raise AssertionError(f'None of {\",\".join([e.__name__ for e in self.excs])} were thrown')\n",
    "        \n",
    "        if not [ isinstance(exc_value, exc) for exc in self.excs ]:\n",
    "            raise exc_value\n",
    "\n",
    "        return True"
   ]
  },
  {
   "cell_type": "markdown",
   "metadata": {},
   "source": [
    "## `no`: context manager for verifying `NameError`s (undefined variable names)"
   ]
  },
  {
   "cell_type": "code",
   "execution_count": 1,
   "metadata": {},
   "outputs": [],
   "source": [
    "no = catch(NameError)"
   ]
  }
 ],
 "metadata": {
  "kernelspec": {
   "display_name": "3.6.10",
   "language": "python",
   "name": "3.6.10"
  },
  "language_info": {
   "codemirror_mode": {
    "name": "ipython",
    "version": 3
   },
   "file_extension": ".py",
   "mimetype": "text/x-python",
   "name": "python",
   "nbconvert_exporter": "python",
   "pygments_lexer": "ipython3",
   "version": "3.6.10"
  }
 },
 "nbformat": 4,
 "nbformat_minor": 2
}
