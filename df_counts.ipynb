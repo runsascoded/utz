{
 "cells": [
  {
   "cell_type": "code",
   "execution_count": null,
   "metadata": {},
   "outputs": [],
   "source": [
    "from dask import compute\n",
    "import dask.dataframe as dd\n",
    "import pandas as pd\n",
    "\n",
    "def df_counts(df):\n",
    "    '''Get notnull and unique counts for each column in a DataFrame'''\n",
    "    dask = isinstance(df, dd.DataFrame)\n",
    "    if dask:\n",
    "        nuniques = compute(*[ df[k].nunique() for k in df ])\n",
    "        col_counts = pd.DataFrame(\n",
    "            [\n",
    "                { 'col':col, 'nunique':nunique }\n",
    "                for col, nunique\n",
    "                in zip(df.columns, nuniques)\n",
    "            ]\n",
    "        ) \\\n",
    "        .set_index('col')\n",
    "\n",
    "        notnulls = df.notnull().sum().compute().rename('notnull')\n",
    "\n",
    "        return pd.concat([notnulls, col_counts], axis=1)\n",
    "    else:\n",
    "        col_counts = pd.DataFrame(\n",
    "            [\n",
    "                { 'col':k, 'nunique':df[k].nunique() }\n",
    "                for k in df\n",
    "            ]\n",
    "        ) \\\n",
    "        .astype({'nunique':int}) \\\n",
    "        .set_index('col')\n",
    "\n",
    "        notnulls = df.notnull().sum().rename('notnull')\n",
    "\n",
    "        return pd.concat([notnulls, col_counts], axis=1)"
   ]
  },
  {
   "cell_type": "code",
   "execution_count": null,
   "metadata": {},
   "outputs": [],
   "source": [
    "def col_counts(df, *cols):\n",
    "    counts = df.groupby(list(cols)).size()\n",
    "    counts = counts[counts > 1]\n",
    "    return counts.compute().sort_values()"
   ]
  }
 ],
 "metadata": {
  "kernelspec": {
   "display_name": "Python 3",
   "language": "python",
   "name": "python3"
  },
  "language_info": {
   "codemirror_mode": {
    "name": "ipython",
    "version": 3
   },
   "file_extension": ".py",
   "mimetype": "text/x-python",
   "name": "python",
   "nbconvert_exporter": "python",
   "pygments_lexer": "ipython3",
   "version": "3.8.5"
  }
 },
 "nbformat": 4,
 "nbformat_minor": 4
}
