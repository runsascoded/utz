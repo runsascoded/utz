{
 "cells": [
  {
   "cell_type": "code",
   "execution_count": 1,
   "metadata": {},
   "outputs": [],
   "source": [
    "import ur\n",
    "from process import run, line, check\n",
    "\n",
    "\n",
    "def branch_exists(branch):\n",
    "    return check('git','show-ref','--verify','--quiet',f'refs/heads/{branch}')\n",
    "\n",
    "def current_branch():\n",
    "    return line('git','symbolic-ref','-q','--short','HEAD')\n",
    "\n",
    "def ensure_remote(remote, url):\n",
    "    if remote_exists(remote):\n",
    "        remote_url = line('git','remote','get-url',remote)\n",
    "        if remote_url != url:\n",
    "            print(f'Updating URL for remote {remote}: {remote_url} → {url}')\n",
    "            run('git','remote','set-url',remote,url)\n",
    "    else:\n",
    "        run('git','remote','add',remote,url)\n",
    "\n",
    "    run('git','fetch',remote)    "
   ]
  }
 ],
 "metadata": {
  "kernelspec": {
   "display_name": "Python 3",
   "language": "python",
   "name": "python3"
  },
  "language_info": {
   "codemirror_mode": {
    "name": "ipython",
    "version": 3
   },
   "file_extension": ".py",
   "mimetype": "text/x-python",
   "name": "python",
   "nbconvert_exporter": "python",
   "pygments_lexer": "ipython3",
   "version": "3.7.1"
  }
 },
 "nbformat": 4,
 "nbformat_minor": 2
}
