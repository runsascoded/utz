{
 "cells": [
  {
   "cell_type": "markdown",
   "metadata": {},
   "source": [
    "# `o()`: attr-access for `dict`s\n",
    "Wrap `dict`s (or kwarg lists) to allow direct `.`-accessing of items.\n",
    "\n",
    "Before:\n",
    "```python\n",
    "x={'a':1,'b':2}  # given some dict\n",
    "x['a'], x['b']   # access fields via \"getitem\" syntax\n",
    "```\n",
    "After:\n",
    "```python\n",
    "x=o({'a':1,'b':2})  # wrap dict in o()\n",
    "x.a, x.b            # access members via \"getattr\" syntax\n",
    "```\n",
    "Or, instantiate directly with kwargs:\n",
    "```python\n",
    "x=o(a=1,b=2)\n",
    "x.a, x.b\n",
    "```\n",
    "\n",
    "**Contents:**\n",
    "- [Implementation](#Implementation)\n",
    "- [Examples](#Examples)"
   ]
  },
  {
   "cell_type": "markdown",
   "metadata": {},
   "source": [
    "## Implementation"
   ]
  },
  {
   "cell_type": "code",
   "execution_count": 1,
   "metadata": {},
   "outputs": [],
   "source": [
    "class o(object):\n",
    "\n",
    "    def __init__(self, *args, **kwargs):\n",
    "        if len(args) > 1:\n",
    "            raise ValueError(f'≤1 positional args required, got {len(args)}')\n",
    "        \n",
    "        if args:\n",
    "            (data,) = args\n",
    "            if type(data) is not dict:\n",
    "                raise ValueError(f'Single-arg o() ctor call needs dict arg, not {type(data)}: {data}')\n",
    "            if kwargs:\n",
    "                raise ValueError(f'Positional dict arg is exclusive with kwargs: {data}, {kwargs}')\n",
    "        else:\n",
    "            data = kwargs\n",
    "\n",
    "        K = '_data'\n",
    "        if K in data:\n",
    "            raise ValueError(f\"Reserved key '{K}' found in 'data' dict: {data}\")\n",
    "            \n",
    "        for k, v in data.items():\n",
    "            if isinstance(v, dict): v = o(v)\n",
    "            super(o, self).__setattr__(k, v)\n",
    "                                               \n",
    "        super(o, self).__setattr__(K, data)\n",
    "\n",
    "    def __dict__(self):\n",
    "        return self._data\n",
    "    \n",
    "    def __setattr__(self, k, v):\n",
    "        if isinstance(v, dict): v = o(v)\n",
    "        self._data[k] = v\n",
    "\n",
    "    def __getattr__(self, k):\n",
    "        try:\n",
    "            v = self._data[k]\n",
    "            if isinstance(v, dict): v = o(v)\n",
    "            return v\n",
    "        except KeyError:\n",
    "            raise AttributeError(f'Key {k}')\n",
    "\n",
    "    def get(self, k, default=None):\n",
    "        try:\n",
    "            return self[k]\n",
    "        except KeyError:\n",
    "            return default\n",
    "\n",
    "    def __getitem__(self, k):\n",
    "        v = self._data[k]\n",
    "        if isinstance(v, dict): v = o(v)\n",
    "        return v\n",
    "    def __setitem__(self, k, v): self._data[k] = v\n",
    "    def __contains__(self, k): return k in self._data\n",
    "    \n",
    "    def __str__(self): return str(self._data)\n",
    "    def __repr__(self): return repr(self._data)"
   ]
  },
  {
   "cell_type": "markdown",
   "metadata": {},
   "source": [
    "## Examples"
   ]
  },
  {
   "cell_type": "code",
   "execution_count": 2,
   "metadata": {},
   "outputs": [],
   "source": [
    "o1 = o(a=1,b=2)"
   ]
  },
  {
   "cell_type": "code",
   "execution_count": 3,
   "metadata": {},
   "outputs": [
    {
     "data": {
      "text/plain": [
       "(1, 2)"
      ]
     },
     "execution_count": 3,
     "metadata": {},
     "output_type": "execute_result"
    }
   ],
   "source": [
    "o1.a, o1.b"
   ]
  },
  {
   "cell_type": "code",
   "execution_count": 4,
   "metadata": {
    "scrolled": true
   },
   "outputs": [],
   "source": [
    "import ur\n",
    "from .context import catch\n",
    "with catch(AttributeError): o1.c"
   ]
  },
  {
   "cell_type": "code",
   "execution_count": 5,
   "metadata": {},
   "outputs": [
    {
     "data": {
      "text/plain": [
       "(3, 4)"
      ]
     },
     "execution_count": 5,
     "metadata": {},
     "output_type": "execute_result"
    }
   ],
   "source": [
    "x={'c':3,'d':4}\n",
    "o2 = o(x)\n",
    "o2.c, o2.d"
   ]
  },
  {
   "cell_type": "code",
   "execution_count": 6,
   "metadata": {},
   "outputs": [
    {
     "data": {
      "text/plain": [
       "5"
      ]
     },
     "execution_count": 6,
     "metadata": {},
     "output_type": "execute_result"
    }
   ],
   "source": [
    "x['e']=5\n",
    "o2.e"
   ]
  },
  {
   "cell_type": "code",
   "execution_count": 7,
   "metadata": {},
   "outputs": [
    {
     "data": {
      "text/plain": [
       "{'c': 'ccc', 'd': 4, 'e': 5}"
      ]
     },
     "execution_count": 7,
     "metadata": {},
     "output_type": "execute_result"
    }
   ],
   "source": [
    "o2.c = 'ccc'\n",
    "x"
   ]
  },
  {
   "cell_type": "code",
   "execution_count": 8,
   "metadata": {},
   "outputs": [
    {
     "data": {
      "text/plain": [
       "{'c': 'ccc', 'd': 4, 'e': 5}"
      ]
     },
     "execution_count": 8,
     "metadata": {},
     "output_type": "execute_result"
    }
   ],
   "source": [
    "o2"
   ]
  },
  {
   "cell_type": "code",
   "execution_count": 9,
   "metadata": {},
   "outputs": [
    {
     "data": {
      "text/plain": [
       "\"{'c': 'ccc', 'd': 4, 'e': 5}\""
      ]
     },
     "execution_count": 9,
     "metadata": {},
     "output_type": "execute_result"
    }
   ],
   "source": [
    "str(o2)"
   ]
  },
  {
   "cell_type": "code",
   "execution_count": 10,
   "metadata": {},
   "outputs": [
    {
     "data": {
      "text/plain": [
       "True"
      ]
     },
     "execution_count": 10,
     "metadata": {},
     "output_type": "execute_result"
    }
   ],
   "source": [
    "'c' in o2"
   ]
  },
  {
   "cell_type": "code",
   "execution_count": 11,
   "metadata": {},
   "outputs": [
    {
     "data": {
      "text/plain": [
       "{'c': 'ccc', 'd': 4, 'e': 5}"
      ]
     },
     "execution_count": 11,
     "metadata": {},
     "output_type": "execute_result"
    }
   ],
   "source": [
    "x"
   ]
  },
  {
   "cell_type": "code",
   "execution_count": 12,
   "metadata": {},
   "outputs": [
    {
     "data": {
      "text/plain": [
       "['c', 'd', 'e']"
      ]
     },
     "execution_count": 12,
     "metadata": {},
     "output_type": "execute_result"
    }
   ],
   "source": [
    "list(iter(x))"
   ]
  },
  {
   "cell_type": "code",
   "execution_count": 13,
   "metadata": {},
   "outputs": [
    {
     "data": {
      "text/plain": [
       "False"
      ]
     },
     "execution_count": 13,
     "metadata": {},
     "output_type": "execute_result"
    }
   ],
   "source": [
    "'z' in o2"
   ]
  },
  {
   "cell_type": "code",
   "execution_count": 14,
   "metadata": {},
   "outputs": [
    {
     "data": {
      "text/plain": [
       "{'a': {'b': 1}}"
      ]
     },
     "execution_count": 14,
     "metadata": {},
     "output_type": "execute_result"
    }
   ],
   "source": [
    "oo = o(a={'b':1})\n",
    "oo"
   ]
  },
  {
   "cell_type": "code",
   "execution_count": 15,
   "metadata": {},
   "outputs": [
    {
     "data": {
      "text/plain": [
       "'yay'"
      ]
     },
     "execution_count": 15,
     "metadata": {},
     "output_type": "execute_result"
    }
   ],
   "source": [
    "oo.get('b', 'yay')"
   ]
  },
  {
   "cell_type": "code",
   "execution_count": 16,
   "metadata": {},
   "outputs": [
    {
     "data": {
      "text/plain": [
       "1"
      ]
     },
     "execution_count": 16,
     "metadata": {},
     "output_type": "execute_result"
    }
   ],
   "source": [
    "oo.a.b"
   ]
  }
 ],
 "metadata": {
  "kernelspec": {
   "display_name": "3.8.2",
   "language": "python",
   "name": "3.8.2"
  },
  "language_info": {
   "codemirror_mode": {
    "name": "ipython",
    "version": 3
   },
   "file_extension": ".py",
   "mimetype": "text/x-python",
   "name": "python",
   "nbconvert_exporter": "python",
   "pygments_lexer": "ipython3",
   "version": "3.8.2"
  }
 },
 "nbformat": 4,
 "nbformat_minor": 4
}
