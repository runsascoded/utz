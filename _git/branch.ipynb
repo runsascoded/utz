{
 "cells": [
  {
   "cell_type": "code",
   "execution_count": null,
   "metadata": {},
   "outputs": [],
   "source": [
    "import ur\n",
    "from process import *\n",
    "from . import diff\n",
    "\n",
    "def mv(old, new, force=False, checkout=False):\n",
    "    if current() == old:\n",
    "        if diff.exists():\n",
    "            raise ValueError(f\"Local changes found; refusing to reset --hard\")\n",
    "        else:\n",
    "            run('git','reset','--hard',new)\n",
    "    else:\n",
    "        run('git','branch','-f',old,new)\n",
    "\n",
    "    if checkout:\n",
    "        run('git','checkout',new)\n",
    "\n",
    "def ls():\n",
    "    return lines('git','for-each-ref','--format=%(refname:short)','refs/heads')\n",
    "        \n",
    "def exists(name):\n",
    "    return check('git','show-ref','--verify','--quiet',f'refs/heads/{name}')\n",
    "\n",
    "def current():\n",
    "    return line('git','symbolic-ref','-q','--short','HEAD')\n",
    "\n",
    "\n",
    "from contextlib import contextmanager\n",
    "from .. import checkout\n",
    "\n",
    "@contextmanager\n",
    "def checkout(*args, **kwargs):\n",
    "    try:\n",
    "        cur = current()\n",
    "        checkout(*args, **kwargs)\n",
    "        yield cur\n",
    "    finally:\n",
    "        checkout(cur, exist=True)"
   ]
  }
 ],
 "metadata": {
  "kernelspec": {
   "display_name": "3.8.2",
   "language": "python",
   "name": "3.8.2"
  },
  "language_info": {
   "codemirror_mode": {
    "name": "ipython",
    "version": 3
   },
   "file_extension": ".py",
   "mimetype": "text/x-python",
   "name": "python",
   "nbconvert_exporter": "python",
   "pygments_lexer": "ipython3",
   "version": "3.8.2"
  }
 },
 "nbformat": 4,
 "nbformat_minor": 2
}
