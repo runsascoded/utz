{
 "cells": [
  {
   "cell_type": "code",
   "execution_count": null,
   "metadata": {},
   "outputs": [],
   "source": [
    "from contextlib import contextmanager\n",
    "import ur\n",
    "from ..process import run\n",
    "from . import branch as _branch\n",
    "\n",
    "class Checkout:\n",
    "    def __call__(checkout, branch, *args, ref=None, create_ok=False, ctx=True, sha_ok=True):\n",
    "        prev = _branch.current(sha_ok=sha_ok)\n",
    "        exists = _branch.exists(branch)\n",
    "        if not exists and not create_ok:\n",
    "            raise ValueError(f\"Branch {branch} doesn't exist\")\n",
    "        if exists and not ref:\n",
    "            run('git','checkout',branch, *args)\n",
    "        else:\n",
    "            run('git','checkout','-B',branch,*(list(args) + [ref]))\n",
    "        \n",
    "        if ctx:\n",
    "            @contextmanager\n",
    "            def ret():\n",
    "                try:\n",
    "                    yield prev\n",
    "                finally:\n",
    "                    checkout(prev, ctx=False)\n",
    "            \n",
    "            return ret()\n",
    "        else:\n",
    "            return prev\n",
    "    \n",
    "    def mk(checkout, branch, *args, **kwargs):\n",
    "        return checkout(branch, *args, create_ok=True, **kwargs)"
   ]
  }
 ],
 "metadata": {
  "kernelspec": {
   "display_name": "Python 3",
   "language": "python",
   "name": "python3"
  },
  "language_info": {
   "codemirror_mode": {
    "name": "ipython",
    "version": 3
   },
   "file_extension": ".py",
   "mimetype": "text/x-python",
   "name": "python",
   "nbconvert_exporter": "python",
   "pygments_lexer": "ipython3",
   "version": "3.8.4"
  }
 },
 "nbformat": 4,
 "nbformat_minor": 2
}
