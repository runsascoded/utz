{
 "cells": [
  {
   "cell_type": "code",
   "execution_count": null,
   "metadata": {},
   "outputs": [],
   "source": [
    "from contextlib import contextmanager\n",
    "import ur\n",
    "from ..process import run\n",
    "from . import branch as _branch\n",
    "\n",
    "class Checkout:\n",
    "    def __call__(checkout, branch, ref=None, create=False, exist=False, ctx=True, sha_ok=True):\n",
    "        prev = _branch.current(sha_ok=sha_ok)\n",
    "        if exist or not create:\n",
    "            run('git','checkout',branch,ref)\n",
    "        else:\n",
    "            run('git','checkout','-B',branch,ref)\n",
    "        \n",
    "        if ctx:\n",
    "            @contextmanager\n",
    "            def ret():\n",
    "                try:\n",
    "                    yield prev\n",
    "                finally:\n",
    "                    checkout(prev, exist=True, ctx=False)\n",
    "            \n",
    "            return ret()\n",
    "        else:\n",
    "            return prev"
   ]
  }
 ],
 "metadata": {
  "kernelspec": {
   "display_name": "Python 3",
   "language": "python",
   "name": "python3"
  },
  "language_info": {
   "codemirror_mode": {
    "name": "ipython",
    "version": 3
   },
   "file_extension": ".py",
   "mimetype": "text/x-python",
   "name": "python",
   "nbconvert_exporter": "python",
   "pygments_lexer": "ipython3",
   "version": "3.8.4"
  }
 },
 "nbformat": 4,
 "nbformat_minor": 2
}
