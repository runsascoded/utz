{
 "cells": [
  {
   "cell_type": "code",
   "execution_count": null,
   "metadata": {},
   "outputs": [],
   "source": [
    "from contextlib import contextmanager\n",
    "import ur\n",
    "from ..process import run\n",
    "from . import branch\n",
    "\n",
    "class Checkout:\n",
    "    def __call__(checkout, branch, ref=None, exist=False, ctx=True):\n",
    "        prev = branch.current()\n",
    "        if exist:\n",
    "            run('git','checkout',branch,ref)\n",
    "        else:\n",
    "            run('git','checkout','-B',branch,ref)\n",
    "        \n",
    "        if ctx:\n",
    "            @contextmanager\n",
    "            def ret():\n",
    "                try:\n",
    "                    yield prev\n",
    "                finally:\n",
    "                    checkout(self.cur, exist=True, ctx=False)\n",
    "            \n",
    "            return ret()\n",
    "        else:\n",
    "            return prev\n",
    "\n",
    "#     def __enter__(checkout, *args, **kwargs):\n",
    "#         self.cur = current()\n",
    "#         checkout(*args, **kwargs)\n",
    "#         return cur\n",
    "\n",
    "#     def __exit__(checkout, exc_type, exc_value, traceback)\n",
    "#         checkout(self.cur, exist=True)    "
   ]
  }
 ],
 "metadata": {
  "kernelspec": {
   "display_name": "3.8.2",
   "language": "python",
   "name": "3.8.2"
  },
  "language_info": {
   "codemirror_mode": {
    "name": "ipython",
    "version": 3
   },
   "file_extension": ".py",
   "mimetype": "text/x-python",
   "name": "python",
   "nbconvert_exporter": "python",
   "pygments_lexer": "ipython3",
   "version": "3.8.2"
  }
 },
 "nbformat": 4,
 "nbformat_minor": 2
}
