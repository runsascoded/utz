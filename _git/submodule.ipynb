{
 "cells": [
  {
   "cell_type": "code",
   "execution_count": null,
   "metadata": {},
   "outputs": [],
   "source": [
    "import ur\n",
    "from ..process import *\n",
    "\n",
    "def ls():\n",
    "    return lines('git','submodule','foreach','--quiet','echo $name')\n",
    "\n",
    "def exists(name): return name in ls()\n",
    "\n",
    "def add(url, path=None):\n",
    "    if exists(name): return\n",
    "    cmd = ['git','submodule','add','url']\n",
    "    if path: cmd.append(path)\n",
    "    run(cmd)"
   ]
  }
 ],
 "metadata": {
  "kernelspec": {
   "display_name": "3.8.2",
   "language": "python",
   "name": "3.8.2"
  },
  "language_info": {
   "codemirror_mode": {
    "name": "ipython",
    "version": 3
   },
   "file_extension": ".py",
   "mimetype": "text/x-python",
   "name": "python",
   "nbconvert_exporter": "python",
   "pygments_lexer": "ipython3",
   "version": "3.8.2"
  }
 },
 "nbformat": 4,
 "nbformat_minor": 2
}
