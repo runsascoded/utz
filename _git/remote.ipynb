{
 "cells": [
  {
   "cell_type": "code",
   "execution_count": null,
   "metadata": {},
   "outputs": [],
   "source": [
    "import ur\n",
    "from ..process import *\n",
    "from . import branch as _branch\n",
    "\n",
    "def ls(): return lines('git','remote')\n",
    "\n",
    "def exists(name): return name in ls()\n",
    "\n",
    "def url(name, *args, **kwargs):\n",
    "    if not exists(name):\n",
    "        if len(args) == 1:\n",
    "            default = args[0]\n",
    "        elif 'default' in kwargs:\n",
    "            default = kwargs.pop('default')\n",
    "        else:\n",
    "            raise ValueError(f\"Remote {name} doesn't exist\")\n",
    "\n",
    "        return default\n",
    "    \n",
    "    return line('git','remote','get-url',name)\n",
    "_url = url\n",
    "\n",
    "def init(name, url, branch=None, remote_branch=None, fetch=True):\n",
    "    if exists(name):\n",
    "        existing_url = _url(name)\n",
    "        if existing_url != url:\n",
    "            run('git','remote','set-url',name,url)\n",
    "    else:\n",
    "        run('git','remote','add',name,url)\n",
    "    \n",
    "    if fetch:\n",
    "        run('git','fetch',name)\n",
    "    \n",
    "    if branch:\n",
    "        remote_branch = remote_branch or 'master'\n",
    "        upstream = f'{name}/{remote_branch}'\n",
    "        if _branch.exists(branch):\n",
    "            run('git','branch','-u',upstream,branch)\n",
    "            run('git','checkout',branch)\n",
    "        else:\n",
    "            run('git','checkout','-b',branch,'-t',upstream)\n",
    "\n",
    "def push(name=None, local=None, remote=None):\n",
    "    refspec = None\n",
    "    if local:\n",
    "        if remote:\n",
    "            refspec = f'{local}:{remote}'\n",
    "        else:\n",
    "            refspec = f'{local}:{local}'\n",
    "    \n",
    "    run('git','push',name,refspec)"
   ]
  }
 ],
 "metadata": {
  "kernelspec": {
   "display_name": "3.8.2",
   "language": "python",
   "name": "3.8.2"
  },
  "language_info": {
   "codemirror_mode": {
    "name": "ipython",
    "version": 3
   },
   "file_extension": ".py",
   "mimetype": "text/x-python",
   "name": "python",
   "nbconvert_exporter": "python",
   "pygments_lexer": "ipython3",
   "version": "3.8.2"
  }
 },
 "nbformat": 4,
 "nbformat_minor": 2
}
