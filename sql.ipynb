{
 "cells": [
  {
   "cell_type": "code",
   "execution_count": null,
   "metadata": {},
   "outputs": [],
   "source": [
    "import dask.dataframe as dd\n",
    "import pandas as pd\n",
    "from sqlalchemy import create_engine\n",
    "from os import cpu_count"
   ]
  },
  {
   "cell_type": "code",
   "execution_count": null,
   "metadata": {},
   "outputs": [],
   "source": [
    "def to_sql(\n",
    "    table, name, db_path, force=False,\n",
    "):\n",
    "    if_exists = 'replace' if force else 'fail'\n",
    "    table.to_sql(name, db_path, if_exists=if_exists)\n",
    "    if isinstance(table, dd.DataFrame):\n",
    "        divisions = pd.Series(table.divisions, name='divisions')\n",
    "        divisions.to_sql(f'{name}/divisions', db_path, if_exists=if_exists)\n",
    "\n",
    "        \n",
    "def from_sql(\n",
    "    name, db_path, index_col=None, dask=True,\n",
    "):\n",
    "    if index_col is None:\n",
    "        index_col = 'index'\n",
    "\n",
    "    if dask:\n",
    "        divisions = pd.read_sql_table(f'{name}/divisions', db_path, index_col='index').divisions.tolist()\n",
    "        table = dd.read_sql_table(name, db_path, index_col=index_col, divisions=divisions)\n",
    "    else:\n",
    "        table = pd.read_sql_table(name, db_path, index_col=index_col)\n",
    "\n",
    "    return table"
   ]
  },
  {
   "cell_type": "code",
   "execution_count": null,
   "metadata": {},
   "outputs": [],
   "source": [
    "def table_to_sql(\n",
    "    table_name,\n",
    "    db_path,\n",
    "    index_col=None,\n",
    "    dask=True,\n",
    "    npartitions=-1,\n",
    "    table_path=None,\n",
    "    force_db_refresh=False,\n",
    "    **kwargs\n",
    "):\n",
    "    engine = create_engine(db_path)\n",
    "\n",
    "    if npartitions is not None:\n",
    "        if npartitions <= 0:\n",
    "            npartitions = cpu_count()\n",
    "\n",
    "    if force_db_refresh or not engine.has_table(table_name):\n",
    "        if not table_path:\n",
    "            raise ValueError(f'table_path required in order to compute table {table_name}')\n",
    "        print(f'Creating db table: {table_name}')\n",
    "        if_exists = ('replace' if force_db_refresh else 'fail')\n",
    "        if dask:\n",
    "            csv = dd.read_csv(table_path, **kwargs)\n",
    "            if npartitions is not None:\n",
    "                csv = csv.repartition(npartitions=npartitions)\n",
    "            if index_col is None:\n",
    "                # Force Dask to get a cross-partition default integer autoinc index\n",
    "                csv = csv.reset_index().set_index('index')\n",
    "        else:\n",
    "            csv = pd.read_csv(table_path, **kwargs)\n",
    "        \n",
    "        if index_col is not None:\n",
    "            csv = csv.set_index(index_col)\n",
    "\n",
    "        to_sql(csv, table_name, db_path, force=force_db_refresh)\n",
    "\n",
    "    return from_sql(table_name, db_path, index_col=index_col, dask=dask)"
   ]
  }
 ],
 "metadata": {
  "kernelspec": {
   "display_name": "Python 3",
   "language": "python",
   "name": "python3"
  },
  "language_info": {
   "codemirror_mode": {
    "name": "ipython",
    "version": 3
   },
   "file_extension": ".py",
   "mimetype": "text/x-python",
   "name": "python",
   "nbconvert_exporter": "python",
   "pygments_lexer": "ipython3",
   "version": "3.8.5"
  }
 },
 "nbformat": 4,
 "nbformat_minor": 4
}
