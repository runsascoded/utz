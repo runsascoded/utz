{
 "cells": [
  {
   "cell_type": "code",
   "execution_count": null,
   "metadata": {},
   "outputs": [],
   "source": [
    "from inspect import getfullargspec\n",
    "import json\n",
    "from jupyter_client import kernelspec\n",
    "from papermill import execute_notebook\n",
    "from sys import executable\n",
    "from ._collections import singleton\n",
    "\n",
    "\n",
    "def current_kernel():\n",
    "    return singleton([ \n",
    "        name\n",
    "        for name, kernel_dir\n",
    "        in kernelspec.find_kernel_specs().items()\n",
    "        if json.load(open(f'{kernel_dir}/kernel.json','r'))['argv'][0] == executable\n",
    "    ])\n",
    "\n",
    "\n",
    "def execute(input, output=None, nest_asyncio=True, *args, **kwargs):\n",
    "    output = output or input\n",
    "    spec = getfullargspec(execute_notebook)\n",
    "    exec_kwarg_names = spec.args[-len(spec.defaults):]\n",
    "    exec_kwargs = { \n",
    "        name: kwargs.pop(name)\n",
    "        for name in exec_kwarg_names\n",
    "        if name in kwargs\n",
    "    }\n",
    "    if 'kernel' in kwargs:\n",
    "        kernel_name = kwargs.pop('kernel')\n",
    "        if 'kernel_name' in exec_kwargs:\n",
    "            if exec_kwargs['kernel_name'] != kernel_name:\n",
    "                raise ValueError(f'Conflicting kernel_name values: {exec_kwargs[\"kernel_name\"]} vs. {kernel_name}')\n",
    "        else:\n",
    "            exec_kwargs['kernel_name'] = kernel_name\n",
    "    else:\n",
    "        if 'kernel_name' not in exec_kwargs:\n",
    "            kernel_name = current_kernel()\n",
    "            exec_kwargs['kernel_name'] = kernel_name\n",
    "\n",
    "    if 'parameters' in exec_kwargs:\n",
    "        parameters = exec_kwargs['parameters']\n",
    "        if kwargs:\n",
    "            raise ValueError(f'Passing `parameters` arg to papermill, but found dangling kwargs: {kwargs}')\n",
    "    else:\n",
    "        parameters = kwargs\n",
    "\n",
    "    print(f'parameters: {parameters}')\n",
    "    execute_notebook(\n",
    "        str(input),\n",
    "        str(output),\n",
    "        *args,\n",
    "        nest_asyncio=nest_asyncio,\n",
    "        **exec_kwargs,\n",
    "        parameters=parameters,\n",
    "    )"
   ]
  }
 ],
 "metadata": {
  "kernelspec": {
   "display_name": "Python 3",
   "language": "python",
   "name": "python3"
  },
  "language_info": {
   "codemirror_mode": {
    "name": "ipython",
    "version": 3
   },
   "file_extension": ".py",
   "mimetype": "text/x-python",
   "name": "python",
   "nbconvert_exporter": "python",
   "pygments_lexer": "ipython3",
   "version": "3.8.4"
  }
 },
 "nbformat": 4,
 "nbformat_minor": 2
}
