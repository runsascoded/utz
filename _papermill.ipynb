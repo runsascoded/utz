{
 "cells": [
  {
   "cell_type": "code",
   "execution_count": null,
   "metadata": {},
   "outputs": [],
   "source": [
    "import json\n",
    "from jupyter_client import kernelspec\n",
    "from papermill import execute_notebook\n",
    "from sys import executable\n",
    "from ._collections import singleton\n",
    "\n",
    "\n",
    "def current_kernel():\n",
    "    return singleton([ \n",
    "        name\n",
    "        for name, kernel_dir\n",
    "        in kernelspec.find_kernel_specs().items()\n",
    "        if json.load(open(f'{kernel_dir}/kernel.json','r'))['argv'][0] == executable\n",
    "    ])\n",
    "\n",
    "\n",
    "def execute(input, output=None, nest_asyncio=True, *args, **kwargs):\n",
    "    output = output or input\n",
    "    if 'kernel' in kwargs:\n",
    "        kernel_name = kwargs.pop('kernel')\n",
    "    else:\n",
    "        kernel_name = current_kernel()\n",
    "    execute_notebook(\n",
    "        str(input),\n",
    "        str(output),\n",
    "        *args,\n",
    "        nest_asyncio=nest_asyncio,\n",
    "        kernel_name=kernel_name,\n",
    "        parameters=kwargs,\n",
    "    )"
   ]
  }
 ],
 "metadata": {
  "kernelspec": {
   "display_name": "Python 3",
   "language": "python",
   "name": "python3"
  },
  "language_info": {
   "codemirror_mode": {
    "name": "ipython",
    "version": 3
   },
   "file_extension": ".py",
   "mimetype": "text/x-python",
   "name": "python",
   "nbconvert_exporter": "python",
   "pygments_lexer": "ipython3",
   "version": "3.8.4"
  }
 },
 "nbformat": 4,
 "nbformat_minor": 2
}
