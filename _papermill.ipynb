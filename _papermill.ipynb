{
 "cells": [
  {
   "cell_type": "code",
   "execution_count": null,
   "metadata": {},
   "outputs": [],
   "source": [
    "from papermill import execute_notebook\n",
    "def execute(input, output=None, nest_asyncio=True, *args, **kwargs):\n",
    "    output = output or input\n",
    "    if 'kernel' in kwargs:\n",
    "        kernel_name = kwargs.pop('kernel')\n",
    "    else:\n",
    "        kernel_name = None\n",
    "    execute_notebook(\n",
    "        str(input),\n",
    "        str(output),\n",
    "        *args,\n",
    "        nest_asyncio=nest_asyncio,\n",
    "        kernel_name=kernel_name,\n",
    "        parameters=kwargs,\n",
    "    )"
   ]
  }
 ],
 "metadata": {
  "kernelspec": {
   "display_name": "3.8.2",
   "language": "python",
   "name": "3.8.2"
  },
  "language_info": {
   "codemirror_mode": {
    "name": "ipython",
    "version": 3
   },
   "file_extension": ".py",
   "mimetype": "text/x-python",
   "name": "python",
   "nbconvert_exporter": "python",
   "pygments_lexer": "ipython3",
   "version": "3.8.2"
  }
 },
 "nbformat": 4,
 "nbformat_minor": 2
}
