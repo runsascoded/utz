{
 "cells": [
  {
   "cell_type": "code",
   "execution_count": null,
   "metadata": {},
   "outputs": [],
   "source": [
    "from pandas import Series\n",
    "\n",
    "def singleton(elems, empty_ok=False, name='elems'):\n",
    "    if isinstance(elems, Series):\n",
    "        elems = elems.unique().tolist()\n",
    "    if not elems:\n",
    "        if empty_ok:\n",
    "            return None\n",
    "        raise ValueError(f'No {name} found')\n",
    "    if len(elems) > 1:\n",
    "        raise ValueError(f'{len(elems)} {name} found: {\",\".join(elems[:10])}')\n",
    "    [ elem ] = elems\n",
    "    return elem"
   ]
  },
  {
   "cell_type": "code",
   "execution_count": null,
   "metadata": {},
   "outputs": [],
   "source": [
    "from math import exp, log\n",
    "from numpy import nan\n",
    "from sys import stderr\n",
    "\n",
    "def coerce(value, choices, ε=1e-2, multi_ok=False, errors='raise',warn=True):\n",
    "    assert errors in ['raise','coerce','ignore',]\n",
    "    elems = sorted(\n",
    "        [ \n",
    "            dict(\n",
    "                ratio=abs(log(value / choice)),\n",
    "                choice=choice\n",
    "            )\n",
    "            for choice in choices\n",
    "        ],\n",
    "        key=lambda r: r['ratio']\n",
    "    )\n",
    "    log_ε = log(1+ε)\n",
    "    valids = [ elem for elem in elems if elem['ratio'] <= log_ε ]\n",
    "    best = elems[0]\n",
    "    choice = best['choice']\n",
    "    if not valids:\n",
    "        msg = f'Best choice {choice} for value {value} has error {exp(best[\"ratio\"])-1} > {ε}'\n",
    "        if errors == 'raise':\n",
    "            raise ValueError(msg)\n",
    "        if warn:\n",
    "            stderr.write(msg + '\\n')\n",
    "        if errors == 'coerce':\n",
    "            return nan\n",
    "        else:\n",
    "            return value\n",
    "    if len(valids) > 1 and not multi_ok:\n",
    "        raise ValueError(\n",
    "            '%d choices passed ε<%f filter:\\n\\t%s' % (\n",
    "                len(valids),\n",
    "                ε,\n",
    "                \"\\n\\t\".join([ str(r[\"choice\"]) for r in valids ]),\n",
    "            )\n",
    "        )\n",
    "    return best['choice']        "
   ]
  }
 ],
 "metadata": {
  "kernelspec": {
   "display_name": "3.8.2",
   "language": "python",
   "name": "3.8.2"
  },
  "language_info": {
   "codemirror_mode": {
    "name": "ipython",
    "version": 3
   },
   "file_extension": ".py",
   "mimetype": "text/x-python",
   "name": "python",
   "nbconvert_exporter": "python",
   "pygments_lexer": "ipython3",
   "version": "3.8.2"
  }
 },
 "nbformat": 4,
 "nbformat_minor": 2
}
