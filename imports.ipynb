{
 "cells": [
  {
   "cell_type": "markdown",
   "metadata": {},
   "source": [
    "# imports\n",
    "Common Jupyter imports and helpers to wildcard import from other notebooks"
   ]
  },
  {
   "cell_type": "code",
   "execution_count": null,
   "metadata": {},
   "outputs": [],
   "source": [
    "from sys import executable as python\n",
    "!{python} -m pip install -q pandas"
   ]
  },
  {
   "cell_type": "markdown",
   "metadata": {},
   "source": [
    "Helper for optional imports:"
   ]
  },
  {
   "cell_type": "code",
   "execution_count": 7,
   "metadata": {},
   "outputs": [],
   "source": [
    "from contextlib import suppress\n",
    "_try = suppress(ImportError, ModuleNotFoundError)"
   ]
  },
  {
   "cell_type": "markdown",
   "metadata": {},
   "source": [
    "## stdlib\n",
    "Common imports (and associated helpers) from the Python standard library:"
   ]
  },
  {
   "cell_type": "markdown",
   "metadata": {},
   "source": [
    "### Date/Time"
   ]
  },
  {
   "cell_type": "code",
   "execution_count": null,
   "metadata": {},
   "outputs": [],
   "source": [
    "from dateutil.parser import parse\n",
    "from datetime import datetime as dt, date\n",
    "with _try: from pytz import UTC\n",
    "now = dt.now()\n",
    "today = now.strftime('%Y-%m-%d')"
   ]
  },
  {
   "cell_type": "markdown",
   "metadata": {},
   "source": [
    "### Paths"
   ]
  },
  {
   "cell_type": "code",
   "execution_count": null,
   "metadata": {},
   "outputs": [],
   "source": [
    "from pathlib import Path\n",
    "def mkdir(path, *args, **kwargs):\n",
    "    os.mkdirs(str(path), *args, **kwargs)\n",
    "    return path\n",
    "\n",
    "def mkpar(path, *args, **kwargs):\n",
    "    path.parent.mkdir(exist_ok=True, parents=True)\n",
    "    return path"
   ]
  },
  {
   "cell_type": "markdown",
   "metadata": {},
   "source": [
    "### Other"
   ]
  },
  {
   "cell_type": "code",
   "execution_count": null,
   "metadata": {},
   "outputs": [],
   "source": [
    "from dataclasses import dataclass\n",
    "\n",
    "try:\n",
    "    # Python 3.8\n",
    "    from functools import cached_property, singledispatchmethod\n",
    "except ImportError:\n",
    "    try:\n",
    "        # Python ≤3.7; pip install cached-property\n",
    "        from cached_property import cached_property\n",
    "    except ImportError as e:\n",
    "        pass\n",
    "\n",
    "from functools import partial, lru_cache, namedtuple, reduce, singledispatch\n",
    "\n",
    "from itertools import combinations, combinations_with_replacement, permutations\n",
    "import json\n",
    "\n",
    "import os\n",
    "from os import cpu_count\n",
    "from os.path import dirname, basename\n",
    "\n",
    "from re import match\n",
    "\n",
    "from sys import stdout, stderr, executable as python\n",
    "\n",
    "from tempfile import NamedTemporaryFile, TemporaryDirectory, TemporaryFile"
   ]
  },
  {
   "cell_type": "markdown",
   "metadata": {},
   "source": [
    "## Sibling modules\n",
    "Some other notebooks and Python files from this repo:"
   ]
  },
  {
   "cell_type": "code",
   "execution_count": 2,
   "metadata": {},
   "outputs": [],
   "source": [
    "import ur"
   ]
  },
  {
   "cell_type": "code",
   "execution_count": 3,
   "metadata": {},
   "outputs": [],
   "source": [
    "import process\n",
    "from process import *\n",
    "\n",
    "import pnds\n",
    "from pnds import *\n",
    "\n",
    "from cd import cd\n",
    "from o import o\n",
    "\n",
    "from git_helpers import *\n",
    "\n",
    "from args_parser import *\n",
    "\n",
    "from context import *"
   ]
  },
  {
   "cell_type": "markdown",
   "metadata": {},
   "source": [
    "## Optional Modules"
   ]
  },
  {
   "cell_type": "code",
   "execution_count": 8,
   "metadata": {},
   "outputs": [],
   "source": [
    "# joblib: easy parallelization\n",
    "with _try:\n",
    "    from joblib import Parallel, delayed\n",
    "    parallel = Parallel(n_jobs=cpu_count())\n",
    "\n",
    "# yaml\n",
    "with _try: import yaml\n",
    "\n",
    "# git.Repo: default to searching parent directories for a repository\n",
    "with _try:\n",
    "    import git\n",
    "    Repo = partial(git.Repo, search_parent_directories=True)\n",
    "\n",
    "# requests\n",
    "with _try:\n",
    "    from requests import \\\n",
    "          get as   GET, \\\n",
    "         post as  POST, \\\n",
    "          put as   PUT, \\\n",
    "        patch as PATCH"
   ]
  },
  {
   "cell_type": "markdown",
   "metadata": {},
   "source": [
    "## PyData / Scientific Python"
   ]
  },
  {
   "cell_type": "code",
   "execution_count": 9,
   "metadata": {},
   "outputs": [],
   "source": [
    "import numpy as np\n",
    "from numpy import concatenate, array, ndarray, matrix, nan"
   ]
  },
  {
   "cell_type": "code",
   "execution_count": 10,
   "metadata": {},
   "outputs": [],
   "source": [
    "with _try: import seaborn as sns\n",
    "with _try: import matplotlib.pyplot as plt\n",
    "with _try: from scipy.sparse import spmatrix, coo_matrix, csr_matrix, csc_matrix"
   ]
  }
 ],
 "metadata": {
  "kernelspec": {
   "display_name": "Python 3",
   "language": "python",
   "name": "python3"
  },
  "language_info": {
   "codemirror_mode": {
    "name": "ipython",
    "version": 3
   },
   "file_extension": ".py",
   "mimetype": "text/x-python",
   "name": "python",
   "nbconvert_exporter": "python",
   "pygments_lexer": "ipython3",
   "version": "3.7.1"
  }
 },
 "nbformat": 4,
 "nbformat_minor": 2
}
